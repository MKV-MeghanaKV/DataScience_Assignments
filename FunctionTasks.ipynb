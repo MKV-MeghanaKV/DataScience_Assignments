{
 "cells": [
  {
   "cell_type": "markdown",
   "id": "dc592269",
   "metadata": {},
   "source": [
    "##### Function to find length of string "
   ]
  },
  {
   "cell_type": "code",
   "execution_count": 1,
   "id": "ced5221d",
   "metadata": {},
   "outputs": [],
   "source": [
    "def len1(a):\n",
    "    '''This is a len function which returns length of input string'''\n",
    "    n=0\n",
    "    for i in a:\n",
    "        if type(a[n])==str):\n",
    "            n+=1\n",
    "            continue\n",
    "        else:\n",
    "            break\n",
    "    return n "
   ]
  },
  {
   "cell_type": "markdown",
   "id": "f9e782ca",
   "metadata": {},
   "source": [
    "##### Function to find index of list element"
   ]
  },
  {
   "cell_type": "code",
   "execution_count": 3,
   "id": "1d5760a1",
   "metadata": {},
   "outputs": [],
   "source": [
    "def index1(a,b):\n",
    "    '''This function gives index of the list elements.Takes two input argument a and b.a is element,b is list. '''\n",
    "    if a in b:\n",
    "             for i in range(0,len(b)):\n",
    "                    if b[i]==a:\n",
    "                        y=i\n",
    "                        print(y)"
   ]
  },
  {
   "cell_type": "markdown",
   "id": "79446da6",
   "metadata": {},
   "source": [
    "##### Function to find ip address"
   ]
  },
  {
   "cell_type": "code",
   "execution_count": 7,
   "id": "66025cd0",
   "metadata": {},
   "outputs": [],
   "source": [
    "def ip_address():\n",
    "    '''This function gives ip address of your system'''\n",
    "    import socket\n",
    "    hostname = socket.gethostname()\n",
    "    IPAddr = socket.gethostbyname(hostname)\n",
    "    print(hostname)\n",
    "    print(\"Your System IP Address is:\" + IPAddr)"
   ]
  },
  {
   "cell_type": "markdown",
   "id": "7e1226e0",
   "metadata": {},
   "source": [
    "##### Function to shutdown system"
   ]
  },
  {
   "cell_type": "code",
   "execution_count": 8,
   "id": "97127f26",
   "metadata": {},
   "outputs": [],
   "source": [
    "def shutdown_immediately():\n",
    "    import os\n",
    "    os.system(\"shutdown /s\")"
   ]
  },
  {
   "cell_type": "markdown",
   "id": "7ee0361a",
   "metadata": {},
   "source": [
    "##### Function to multiply numeric elements in a list"
   ]
  },
  {
   "cell_type": "code",
   "execution_count": 13,
   "id": "5c030b72",
   "metadata": {},
   "outputs": [],
   "source": [
    "def list_numele_mul(l):\n",
    "    if type(l)==list:\n",
    "        mul=1\n",
    "        for i in l:\n",
    "            if type(i)==int or type(i)==float:\n",
    "                mul=mul*i\n",
    "        return mul        \n",
    "                \n",
    "    "
   ]
  },
  {
   "cell_type": "code",
   "execution_count": 14,
   "id": "4f4b1907",
   "metadata": {},
   "outputs": [
    {
     "data": {
      "text/plain": [
       "459.19999999999993"
      ]
     },
     "execution_count": 14,
     "metadata": {},
     "output_type": "execute_result"
    }
   ],
   "source": [
    "l=[3.5,6.56,4,5,\"sudh\",\"ineuron\",\"fsda bootcamp 2.0\"]\n",
    "list_numele_mul(l)"
   ]
  },
  {
   "cell_type": "markdown",
   "id": "05b086cd",
   "metadata": {},
   "source": [
    "##### Function to send mail "
   ]
  },
  {
   "cell_type": "code",
   "execution_count": 24,
   "id": "b8b78cff",
   "metadata": {},
   "outputs": [],
   "source": [
    "def send_email(EMAIL_ADDRESS,EMAILAPP_PASSWORD,subject,body,TO):\n",
    "    import smtplib\n",
    "    with smtplib.SMTP('smtp.gmail.com',587) as smtp:\n",
    "        smtp.ehlo()\n",
    "        smtp.starttls()\n",
    "        smtp.ehlo()\n",
    "        smtp.login(EMAIL_ADDRESS,EMAILAPP_PASSWORD)\n",
    "        msg=f'Subject:{subject}\\n\\n{body}'\n",
    "        smtp.sendmail(EMAIL_ADDRESS,[TO],msg)"
   ]
  },
  {
   "cell_type": "markdown",
   "id": "a2102e1b",
   "metadata": {},
   "source": [
    "##### Trying to write function to read doc file"
   ]
  },
  {
   "cell_type": "code",
   "execution_count": 26,
   "id": "05ae085d",
   "metadata": {},
   "outputs": [
    {
     "ename": "NameError",
     "evalue": "name 'path' is not defined",
     "output_type": "error",
     "traceback": [
      "\u001b[1;31m---------------------------------------------------------------------------\u001b[0m",
      "\u001b[1;31mNameError\u001b[0m                                 Traceback (most recent call last)",
      "\u001b[1;32m~\\AppData\\Local\\Temp/ipykernel_4592/1206386440.py\u001b[0m in \u001b[0;36m<module>\u001b[1;34m\u001b[0m\n\u001b[1;32m----> 1\u001b[1;33m \u001b[1;32mwith\u001b[0m \u001b[0mopen\u001b[0m\u001b[1;33m(\u001b[0m\u001b[0mpath\u001b[0m\u001b[1;33m,\u001b[0m\u001b[1;34m'r'\u001b[0m\u001b[1;33m)\u001b[0m \u001b[1;32mas\u001b[0m \u001b[0mf\u001b[0m\u001b[1;33m:\u001b[0m\u001b[1;33m\u001b[0m\u001b[1;33m\u001b[0m\u001b[0m\n\u001b[0m\u001b[0;32m      2\u001b[0m     \u001b[0mf_contents\u001b[0m\u001b[1;33m=\u001b[0m\u001b[0mf\u001b[0m\u001b[1;33m.\u001b[0m\u001b[0mread\u001b[0m\u001b[1;33m(\u001b[0m\u001b[1;33m)\u001b[0m\u001b[1;33m\u001b[0m\u001b[1;33m\u001b[0m\u001b[0m\n\u001b[0;32m      3\u001b[0m     \u001b[0mprint\u001b[0m\u001b[1;33m(\u001b[0m\u001b[0mf_contents\u001b[0m\u001b[1;33m)\u001b[0m\u001b[1;33m\u001b[0m\u001b[1;33m\u001b[0m\u001b[0m\n",
      "\u001b[1;31mNameError\u001b[0m: name 'path' is not defined"
     ]
    }
   ],
   "source": [
    "with open(path,'r') as f:\n",
    "    f_contents=f.read()\n",
    "    print(f_contents)"
   ]
  },
  {
   "cell_type": "code",
   "execution_count": 27,
   "id": "99476e9e",
   "metadata": {},
   "outputs": [],
   "source": [
    "def read_docfile(path):\n",
    "    a=len(path)\n",
    "    if path[a-1]=='x' and path[a-2]=='o' and path[a-3]=='d':\n",
    "        with open(path,'r') as f:\n",
    "            f_contents=f.read()\n",
    "            print(f_contents)"
   ]
  },
  {
   "cell_type": "code",
   "execution_count": 5,
   "id": "3e02f4a5",
   "metadata": {},
   "outputs": [],
   "source": [
    "def read_docfile(path):\n",
    "    a=len(path)\n",
    "    if path[a-1]=='x' and path[a-2]=='o' and path[a-3]=='c' and path[a-4]=='d' and path[a-4]=='.':\n",
    "        with open(path,'r',encoding='utf8') as f:\n",
    "            f_contents=f.read()\n",
    "            print(f_contents)\n",
    " "
   ]
  },
  {
   "cell_type": "code",
   "execution_count": 8,
   "id": "b4e4109c",
   "metadata": {},
   "outputs": [],
   "source": [
    "read_docfile(r'C:\\Users\\MEGHANA\\Downloads\\synopsis.docx') "
   ]
  },
  {
   "cell_type": "code",
   "execution_count": 7,
   "id": "65f964a2",
   "metadata": {},
   "outputs": [],
   "source": [
    "def read_docfile(path):\n",
    "    a=len(path)\n",
    "    if path[a-1]=='x' and path[a-2]=='o' and path[a-3]=='c' and path[a-4]=='d' and path[a-4]=='.':\n",
    "        f = open(path,'r',encoding='utf8',errors='ignore')\n",
    "        print(f.read())\n",
    "        f.close()"
   ]
  },
  {
   "cell_type": "code",
   "execution_count": 50,
   "id": "9e0851ea",
   "metadata": {},
   "outputs": [
    {
     "name": "stdout",
     "output_type": "stream",
     "text": [
      "PK\u0003\u0004\u0014\u0000\u0006\u0000\b\u0000\u0000\u0000!\u0000ߤlZ\u0001\u0000\u0000 \u0005\u0000\u0000\u0013\u0000\b\u0002[Content_Types].xml \u0004\u0002(\u0000\u0002\u0000\u0000\u0000\u0000\u0000\u0000\u0000\u0000\u0000\u0000\u0000\u0000\u0000\u0000\u0000\u0000\u0000\u0000\u0000\u0000\u0000\u0000\u0000\u0000\u0000\u0000\u0000\u0000\u0000\u0000\u0000\u0000\u0000\u0000\u0000\u0000\u0000\u0000\u0000\u0000\u0000\u0000\u0000\u0000\u0000\u0000\u0000\u0000\u0000\u0000\u0000\u0000\u0000\u0000\u0000\u0000\u0000\u0000\u0000\u0000\u0000\u0000\u0000\u0000\u0000\u0000\u0000\u0000\u0000\u0000\u0000\u0000\u0000\u0000\u0000\u0000\u0000\u0000\u0000\u0000\u0000\u0000\u0000\u0000\u0000\u0000\u0000\u0000\u0000\u0000\u0000\u0000\u0000\u0000\u0000\u0000\u0000\u0000\u0000\u0000\u0000\u0000\u0000\u0000\u0000\u0000\u0000\u0000\u0000\u0000\u0000\u0000\u0000\u0000\u0000\u0000\u0000\u0000\u0000\u0000\u0000\u0000\u0000\u0000\u0000\u0000\u0000\u0000\u0000\u0000\u0000\u0000\u0000\u0000\u0000\u0000\u0000\u0000\u0000\u0000\u0000\u0000\u0000\u0000\u0000\u0000\u0000\u0000\u0000\u0000\u0000\u0000\u0000\u0000\u0000\u0000\u0000\u0000\u0000\u0000\u0000\u0000\u0000\u0000\u0000\u0000\u0000\u0000\u0000\u0000\u0000\u0000\u0000\u0000\u0000\u0000\u0000\u0000\u0000\u0000\u0000\u0000\u0000\u0000\u0000\u0000\u0000\u0000\u0000\u0000\u0000\u0000\u0000\u0000\u0000\u0000\u0000\u0000\u0000\u0000\u0000\u0000\u0000\u0000\u0000\u0000\u0000\u0000\u0000\u0000\u0000\u0000\u0000\u0000\u0000\u0000\u0000\u0000\u0000\u0000\u0000\u0000\u0000\u0000\u0000\u0000\u0000\u0000\u0000\u0000\u0000\u0000\u0000\u0000\u0000\u0000\u0000\u0000\u0000\u0000\u0000\u0000\u0000\u0000\u0000\u0000\u0000\u0000\u0000\u0000\u0000\u0000\u0000\u0000\u0000\u0000\u0000\u0000\u0000\u0000\u0000\u0000\u0000\u0000\u0000\u0000\u0000\u0000\u0000\u0000\u0000\u0000\u0000\u0000\u0000\u0000\u0000\u0000\u0000\u0000\u0000\u0000\u0000\u0000\u0000\u0000\u0000\u0000\u0000\u0000\u0000\u0000\u0000\u0000\u0000\u0000\u0000\u0000\u0000\u0000\u0000\u0000\u0000\u0000\u0000\u0000\u0000\u0000\u0000\u0000\u0000\u0000\u0000\u0000\u0000\u0000\u0000\u0000\u0000\u0000\u0000\u0000\u0000\u0000\u0000\u0000\u0000\u0000\u0000\u0000\u0000\u0000\u0000\u0000\u0000\u0000\u0000\u0000\u0000\u0000\u0000\u0000\u0000\u0000\u0000\u0000\u0000\u0000\u0000\u0000\u0000\u0000\u0000\u0000\u0000\u0000\u0000\u0000\u0000\u0000\u0000\u0000\u0000\u0000\u0000\u0000\u0000\u0000\u0000\u0000\u0000\u0000\u0000\u0000\u0000\u0000\u0000\u0000\u0000\u0000\u0000\u0000\u0000\u0000\u0000\u0000\u0000\u0000\u0000\u0000\u0000\u0000\u0000\u0000\u0000\u0000\u0000\u0000\u0000\u0000\u0000\u0000\u0000\u0000\u0000\u0000\u0000\u0000\u0000\u0000\u0000\u0000\u0000\u0000\u0000\u0000\u0000\u0000\u0000\u0000\u0000\u0000\u0000\u0000\u0000\u0000\u0000\u0000\u0000\u0000\u0000\u0000\u0000\u0000\u0000\u0000\u0000\u0000\u0000\u0000\u0000\u0000\u0000\u0000\u0000\u0000\u0000\u0000\u0000\u0000\u0000\u0000\u0000\u0000\u0000\u0000\u0000\u0000\u0000\u0000\u0000\u0000\u0000\u0000\u0000\u0000\u0000\u0000\u0000\u0000\u0000\u0000\u0000\u0000\u0000\u0000\u0000\u0000\u0000\u0000\u0000\u0000\u0000\u0000\u0000\u0000\u0000\u0000\u0000\u0000\u0000\u0000\u0000\u0000\u0000\u0000\u0000\u0000\u0000\u0000\u0000\u0000\u0000\u0000\u0000\u0000\u0000\u0000\u0000\u0000\u0000\u0000n0\u0010E\u000fUb袪*\u0002>-R\u0007\u0018{\u0002VǼ\u0013\u0002QU\u0001\n",
      "l\"%33Vƃښl\t\u0011w%\u0017=^i7+-d\u0019&0A6l4\u0019L6\u00010#ÒS\n",
      "O\u0015X\u0000*V$z3\u001e",
      "\u00163\u0003%p)O\u0007\u001b\u000e^\u0012\u000b",
      "5}nH\"\u0018dsXgL`\u0014|ԟ|Prۃs\u001d",
      "\u001a\u0018?PW\u0007t\u001ft4Q+\"wa|T\\y,N\u001c",
      "U%-D/\u0001ܚXݞ(\u0007\u0001<E\u001d",
      "\u000f)\u001a\u0000;N\u0015L?F˼\u0013܉\u001a<Fk\th\u0003yڜq\u0001i?ޯli\u00001]Hg\u0007m@\u001d",
      "m\u0003\u0000\u0000\u0003\u0000PK\u0003\u0004\u0014\u0000\u0006\u0000\b\u0000\u0000\u0000!\u0000\u001e",
      "\u001a\u0000\u0000\u0000N\u0002\u0000\u0000\u000b",
      "\u0000\b\u0002_rels/.rels \u0004\u0002(\u0000\u0002\u0000\u0000\u0000\u0000\u0000\u0000\u0000\u0000\u0000\u0000\u0000\u0000\u0000\u0000\u0000\u0000\u0000\u0000\u0000\u0000\u0000\u0000\u0000\u0000\u0000\u0000\u0000\u0000\u0000\u0000\u0000\u0000\u0000\u0000\u0000\u0000\u0000\u0000\u0000\u0000\u0000\u0000\u0000\u0000\u0000\u0000\u0000\u0000\u0000\u0000\u0000\u0000\u0000\u0000\u0000\u0000\u0000\u0000\u0000\u0000\u0000\u0000\u0000\u0000\u0000\u0000\u0000\u0000\u0000\u0000\u0000\u0000\u0000\u0000\u0000\u0000\u0000\u0000\u0000\u0000\u0000\u0000\u0000\u0000\u0000\u0000\u0000\u0000\u0000\u0000\u0000\u0000\u0000\u0000\u0000\u0000\u0000\u0000\u0000\u0000\u0000\u0000\u0000\u0000\u0000\u0000\u0000\u0000\u0000\u0000\u0000\u0000\u0000\u0000\u0000\u0000\u0000\u0000\u0000\u0000\u0000\u0000\u0000\u0000\u0000\u0000\u0000\u0000\u0000\u0000\u0000\u0000\u0000\u0000\u0000\u0000\u0000\u0000\u0000\u0000\u0000\u0000\u0000\u0000\u0000\u0000\u0000\u0000\u0000\u0000\u0000\u0000\u0000\u0000\u0000\u0000\u0000\u0000\u0000\u0000\u0000\u0000\u0000\u0000\u0000\u0000\u0000\u0000\u0000\u0000\u0000\u0000\u0000\u0000\u0000\u0000\u0000\u0000\u0000\u0000\u0000\u0000\u0000\u0000\u0000\u0000\u0000\u0000\u0000\u0000\u0000\u0000\u0000\u0000\u0000\u0000\u0000\u0000\u0000\u0000\u0000\u0000\u0000\u0000\u0000\u0000\u0000\u0000\u0000\u0000\u0000\u0000\u0000\u0000\u0000\u0000\u0000\u0000\u0000\u0000\u0000\u0000\u0000\u0000\u0000\u0000\u0000\u0000\u0000\u0000\u0000\u0000\u0000\u0000\u0000\u0000\u0000\u0000\u0000\u0000\u0000\u0000\u0000\u0000\u0000\u0000\u0000\u0000\u0000\u0000\u0000\u0000\u0000\u0000\u0000\u0000\u0000\u0000\u0000\u0000\u0000\u0000\u0000\u0000\u0000\u0000\u0000\u0000\u0000\u0000\u0000\u0000\u0000\u0000\u0000\u0000\u0000\u0000\u0000\u0000\u0000\u0000\u0000\u0000\u0000\u0000\u0000\u0000\u0000\u0000\u0000\u0000\u0000\u0000\u0000\u0000\u0000\u0000\u0000\u0000\u0000\u0000\u0000\u0000\u0000\u0000\u0000\u0000\u0000\u0000\u0000\u0000\u0000\u0000\u0000\u0000\u0000\u0000\u0000\u0000\u0000\u0000\u0000\u0000\u0000\u0000\u0000\u0000\u0000\u0000\u0000\u0000\u0000\u0000\u0000\u0000\u0000\u0000\u0000\u0000\u0000\u0000\u0000\u0000\u0000\u0000\u0000\u0000\u0000\u0000\u0000\u0000\u0000\u0000\u0000\u0000\u0000\u0000\u0000\u0000\u0000\u0000\u0000\u0000\u0000\u0000\u0000\u0000\u0000\u0000\u0000\u0000\u0000\u0000\u0000\u0000\u0000\u0000\u0000\u0000\u0000\u0000\u0000\u0000\u0000\u0000\u0000\u0000\u0000\u0000\u0000\u0000\u0000\u0000\u0000\u0000\u0000\u0000\u0000\u0000\u0000\u0000\u0000\u0000\u0000\u0000\u0000\u0000\u0000\u0000\u0000\u0000\u0000\u0000\u0000\u0000\u0000\u0000\u0000\u0000\u0000\u0000\u0000\u0000\u0000\u0000\u0000\u0000\u0000\u0000\u0000\u0000\u0000\u0000\u0000\u0000\u0000\u0000\u0000\u0000\u0000\u0000\u0000\u0000\u0000\u0000\u0000\u0000\u0000\u0000\u0000\u0000\u0000\u0000\u0000\u0000\u0000\u0000\u0000\u0000\u0000\u0000\u0000\u0000\u0000\u0000\u0000\u0000\u0000\u0000\u0000\u0000\u0000\u0000\u0000\u0000\u0000\u0000\u0000\u0000\u0000\u0000\u0000\u0000\u0000\u0000\u0000\u0000\u0000\u0000\u0000\u0000\u0000\u0000\u0000\u0000\u0000\u0000\u0000\u0000\u0000\u0000\u0000\u0000\u0000\u0000\u0000\u0000\u0000\u0000\u0000\u0000j0\f",
      "@ѽQ\u0018N/c\u0018\u0007\b[IL\u0013j<\u0002]aGӓzsFu]\u001aU\n",
      "\t^[x\u00001xp\f",
      "f#I)ʃY\u0015\u001a\u0006\u0013*D\u000b",
      "i\")c$qU~31jH[{\u0007=E\u001d",
      "\u0019~\n",
      "f?3-޲]Tꓸ2j),\u001al0/%b\n",
      "\u001azŉ,\t\t/|f\\\u0012Z\u0019?6!Y_o\u001b]A\u0001\u0000\u0000\u0003\u0000PK\u0003\u0004\u0014\u0000\u0006\u0000\b\u0000\u0000\u0000!\u0000E\u0005\u0000\u0000\u0013\u0000\u0000\u0011\u0000\u0000\u0000word/document.xmlXn8\u0010}_`s\u0013IGhR8NS䡀Ѧg%\u0012{eǉa; !̙\u000b",
      "G>~z3\b%/<\bLB&ޏ۳G2{t?\u001fWQXsi\t V\u0005Rk\n",
      "KyNy.VF-9S\u0016\u000b",
      "R:{A\u0018TwV\u001b\u0003{3*x\n",
      "\u001c",
      "{<\f",
      "-t\u0005e\u00078YJ\u001d",
      "Fx4п'@\u0013a/܅\u001f\n",
      "5\u001d",
      "\u001d",
      "I@`4<\n",
      "\u0015F!vƧ!w&!S[\u0012\u000b",
      "sj\u0013?WY\u0001V<L'`\u0006\u0016\n",
      "\u0004FZ#hgEQ^e蟭\u001d",
      "o.>Zi\u000e\u0019bIE^h\u0018L[>'y[\u0015tS\u0003<~\u0013<G\f",
      "\u00032 \u001aPض2QB\u0011\u0006\u0002v\u0000F\u001f[In:\u001c",
      "qhq8\u001c",
      "\u00056<$\u0001`b\u001bGڸNZR.tȏ#5\\=\u001b1*-/ZE&އv׵`\u001c",
      ",EnG{J\u000b",
      "tEwT>d`APʀEKu\u001f+5q=ƻAOZ`l\u0010\u0015T;\u0014e0\u0019gӛWI^N:\u000eb\u0006i]X\n",
      "\u0013A:E7|A̺8]#\n",
      "Qep'f\u001e",
      "CT׃\u001d",
      "\u001c",
      "\u0001<3/ee+pax-̨LZ9g?; k=/\u0014V.9qϐ{R)~ܸ\u0019W\u0013x2\u0004vvVvsptvvЛ\u0006\f",
      "(v3]\f",
      "^7N~!\u0018j\u0019;B`T\u001bBjj\u00152Bs{W$cDW!XY\u0005)\u0002y\u0004+Cv\"C{\u0014ؔZ2,M81\"4#\u0010S>XE(ɨư,\u0007Z\u0010gts<>\u0004T\u00035>'VSiramH|qc( 3\u001f~\u0014\u0010ϸ%8֮O\u0015~;5*MI쉀k4p:\u0016U*X\\d9T\u001fy\u001aZ\u001bw3\u0007G\u001bOlCx\bF\u0006:(JLY\\`I\u0004)\u000efX>@pI8eXY qiF\u00180!m\u00106=\u001d",
      "߆׳xF\n",
      "&y_^RWZdUj\n",
      "Inrt\n",
      "NWuľP\u0017R-{\u0002\u0016*\u0004\u0017\u001c",
      "\u0019\n",
      "GcIXg(pr.c\u001d",
      "Z)VFV\u0004s}\u0001\u001f]\u0003lI)-\n",
      "\u0016Xg+\u0005o\u0018QT2lE\u0000Ru^}\u0001\u001b,\u0016}\u001c",
      "Q$]ǹ'\f",
      "/܉z\u0015a\u001d",
      "&\u0017W\u0010,\u001c",
      "\f",
      "\n",
      "K$\u001e",
      "\u001f*3\u0018M99쎃{\\(e7\u001e",
      "5\u00181MS~nN%\u0015&1B3sa\u0019XG];Ev\u0007\u0000\u0000\u0003\u0000PK\u0003\u0004\u0014\u0000\u0006\u0000\b\u0000\u0000\u0000!\u0000dQ\u0000\u0000\u00001\u0003\u0000\u0000\u001c",
      "\u0000\b\u0001word/_rels/document.xml.rels \u0004\u0001(\u0000\u0001\u0000\u0000\u0000\u0000\u0000\u0000\u0000\u0000\u0000\u0000\u0000\u0000\u0000\u0000\u0000\u0000\u0000\u0000\u0000\u0000\u0000\u0000\u0000\u0000\u0000\u0000\u0000\u0000\u0000\u0000\u0000\u0000\u0000\u0000\u0000\u0000\u0000\u0000\u0000\u0000\u0000\u0000\u0000\u0000\u0000\u0000\u0000\u0000\u0000\u0000\u0000\u0000\u0000\u0000\u0000\u0000\u0000\u0000\u0000\u0000\u0000\u0000\u0000\u0000\u0000\u0000\u0000\u0000\u0000\u0000\u0000\u0000\u0000\u0000\u0000\u0000\u0000\u0000\u0000\u0000\u0000\u0000\u0000\u0000\u0000\u0000\u0000\u0000\u0000\u0000\u0000\u0000\u0000\u0000\u0000\u0000\u0000\u0000\u0000\u0000\u0000\u0000\u0000\u0000\u0000\u0000\u0000\u0000\u0000\u0000\u0000\u0000\u0000\u0000\u0000\u0000\u0000\u0000\u0000\u0000\u0000\u0000\u0000\u0000\u0000\u0000\u0000\u0000\u0000\u0000\u0000\u0000\u0000\u0000\u0000\u0000\u0000\u0000\u0000\u0000\u0000\u0000\u0000\u0000\u0000\u0000\u0000\u0000\u0000\u0000\u0000\u0000\u0000\u0000\u0000\u0000\u0000\u0000\u0000\u0000\u0000\u0000\u0000\u0000\u0000\u0000\u0000\u0000\u0000\u0000\u0000\u0000\u0000\u0000\u0000\u0000\u0000\u0000\u0000\u0000\u0000\u0000\u0000\u0000\u0000\u0000\u0000\u0000\u0000\u0000\u0000\u0000\u0000\u0000\u0000\u0000\u0000\u0000\u0000\u0000\u0000\u0000\u0000\u0000\u0000\u0000\u0000\u0000\u0000\u0000\u0000\u0000\u0000\u0000\u0000\u0000\u0000\u0000\u0000\u0000\u0000\u0000\u0000\u0000\u0000\u0000\u0000\u0000\u0000\u0000\u0000\u0000\u0000\u0000\u0000\u0000\u0000\u0000\u0000\u0000\u0000\u0000\u0000\u0000\u0000\u0000\u0000\u0000\u0000\u0000\u0000\u0000\u0000\u0000\u0000\u0000j0\u0010E}-;}PBlJ!\u0000E\u001e",
      "?,\t`HI`rsπ6w{r\u0010茯{*x\u001e",
      "A\u0010kWk\u001d",
      "*\u0018`[^^ljNKD8R1d:\u001c",
      "4e>K/4V\u0006m^urw2N\u0019P0ŮV\u0010w5j\f",
      "\u001fo7o\u0003:>S!?p8JX\u001d",
      "[d\u00050KDEVK\u001fc2P,ũa].\u001fﰘsYҡ+\u0013(!O>z\u0005\u0000\u0000\u0003\u0000PK\u0003\u0004\u0014\u0000\u0006\u0000\b\u0000\u0000\u0000!\u0000g\u0006\u0000\u0000 \u0000\u0000\u0015\u0000\u0000\u0000word/theme/theme1.xmlYK\u001bG\u0010\u0007\u001fza5Hk6޵Rkiڵ0`r\t\u0004C\f",
      "\u0010B\f",
      "1\u001fcI\u001f\u001e",
      "I3-ď]\tU?4s:G\u000b",
      "[=Wq\u001d",
      "ؘ$aǽ}0,\\GH\u0011e\t\u000b",
      ",܋;v\u0001\u0011\u00038:n$|,F096\tM\u0018.\u000fcAoL˵JQ\u0011I\\'A11\u0011v\u000eJwg|@_\"\u001a\u0018QTcCBcӪ\u0012\u000b",
      "\u0011P\u001c",
      "!qa1;>P$$Lt܊s;\u0017k!*\u000b",
      "dsrC[\n",
      "5-õ^֯\u0001Tn\u0006AcX\u00004\u001aNS.f-\u001c",
      "(mZtz׷]_}\f",
      "\u0006Mo\u000b",
      "?\u001c",
      "\u0006\n",
      "so^7kPllᛕnk\u001ax\n",
      "(I[ߨ\u0007ݮ!\u0013F/[m\u001b6kKx*+OdQ\u001e",
      "C\u0000h\"I\u0012G.fxF\u000b",
      "\u0010%8$ f(a\u0002+ʰR(:QN:\u001d",
      "\u001a!\u0011#Nf^\u0005n\u000eŋ|Ǐ_>uey7?}/͓oxǿ_Ag?{\u0002rt\u001f\u0018\u000b",
      ":>vn\u00186hY\u0000\u001f8\u0010KtP\u0004)\u0019\u000b",
      "z #\u0003}}(zش\u001d",
      "\u000e\u00064g\u0010ޏ\\\u0012\u000b",
      "Z\u0014\u001b=hq랮V'}q>n!td[;`>'6A\n",
      "7)\u001c",
      "8QslE.!]Ȉ3&ҹK\u001e",
      "\"V\u001c",
      "C#2$\u0006,l\u0004߆m8=FmD@Ԧ\u0012SÌ\\\u00184E2_ap!!\u0019\u00106\u001b|aн\u0006i=M$djC\">\u0006\u0011gV$+b\n",
      "!LZI0>\u0001%Cې\u0001fv$03N\u0010)H]NћFhbL1\u001acܾbóa\belUdƪ'X@\u001bc0Bv\u001fb#,P\u0012#^\f",
      "\u0001\\u5^hjRա!bcZoF\b+\u0017x]pr@\u0007ζ9@X \u000b",
      "\u0003\u0004U-݂LD\u001d",
      "'-6MCQ$yk\u0005Q\u001f\n",
      "\u000fO-өwT:Ed)mV5\u0001c\u00175}4OnbG,г欦4E9d*\u0019GdE?\u0002Z=Z§>\u0013B\\P+t#쏇0;Zhi\u0016As\u000b",
      "9m3\u0005~fLU\u0010P83&pVj=6NGsM\u0010@2\u001bk5\u000eeLG\u001b\u0001ZA늀}\u001f\u0012L\u0012u\u000b",
      "j-$NE¢\u0017_K HRF\u0010n\u0010cT~St1m,k+iD.L\u00120\u001c",
      ">e_3\u001a)i4[\u001f*l\u0006=\u0018\\\u00075#4\u0013\u0004x\u0006TI\u001d",
      "ɥ?$̸}$\u0014DbP\u0012C@[T{Dɵ+Wx2#Y0ua.Ub=!Xu\u001c",
      "HGc-\u0004Ue1\u0011rm1άGxߒ\u001d",
      "QDg\u0011Z(du{M'\u000ftsWfP9ķۅD.i\u0016\\ ִ珏wXey`\\^庢[\u0017BZAM1PFMjX\u0010[f\u001d",
      "qڷfԪ\u000b",
      "bUW֋mvx\u000f\"\u000fJ¯\u0016+4\u0013Uv/9'\u001d",
      "AzA\u000fJ?(yuRjzVC0⪟=\u001ft|oǷǫR܈e\u0016w\u000e\u0001<hԆz(aZv\u001f\u0003\u001e",
      ">t#\n",
      "k\f",
      "ZF5\bJ^ڥWuf5\u000fWռv\u0005\u0000\u0000\u0003\u0000PK\u0003\u0004\u0014\u0000\u0006\u0000\b\u0000\u0000\u0000!\u0000@{\f",
      ")\u0004\u0000\u0000\u001f\f",
      "\u0000\u0000\u0011\u0000\u0000\u0000word/settings.xmlVn8\u0010}_`:XES\u0012oSb)@Rvb}h9HZE̜\u0019\u000e3z=\n",
      ">«\u0011\u000b",
      "Ln}ꏽ҈cT\n",
      "Nޑ(�;h\n",
      "j\u0007\u0014\\,zU*/\bCJT\u0003\u0015!\n",
      "r3$\u001fꪟ\u000b",
      "V!M3ZR} \u0018z-ziKg4B6&niNڗ/ۘ,E^3µKRB\f",
      "Vʱe\u0003p$\u001fmbJw\b\u0017l $>Y$<cPI\u0013X\u0002s\u001c",
      "?#:\u0002\u0016-\u0015]G zF08-\u000f<\u0014gx]b\u0005sFūX\"W\"\n",
      "NUd\u0018JNtGH/\u0006Dmɰ<q!QVB8P:=8<!eM\u001e",
      "k\u0011_`CZ\u0011E\u0006\u0013\u0004o\u0000L.=6ZTG\u0010(j@\u0012MrZaI\u0005\u0010\t%Z؎ҭ6Mw\u0002\u000b",
      "\u0018\u0005qHkI__c`ɹ\u001d",
      "\t覒broҵǒ \n",
      "Jf\u001c",
      "h/D\u0000\b7?\u0001\u001f+\"Hא7rfObUjM\u0014c87sF[\"\u0001E|\u0014\u0007\u000f\u0004a\u0018boV\u001fP5|\u000b",
      "\u0005p\n",
      "w|a\u0014c\u0016_'`\u001c",
      "MԠ\u001d",
      "\u0012-A\f",
      "'`9V|qs\tălv\t'`1lU2>ݱԌ˿[+c\u0002LR[\u001bL>)wxFksdSg\u000e\u001b@1T+8,\u0007D\u0014SU-֮5Ր\u0017Я>L/#O)A\u000f\u0012UM;0[K\u001d",
      "eNl83^<u9\u001aJɶ;dK\u0012޿Ԗl)7\u001aUUS.z%\u0015:4\u000b",
      "vQE\u0016\u001a~\f",
      "E'LodN\u0016;Y\u0012'K:ɆFV@%\u000fpȷ,Ł\u000f\u001d",
      "L$A\u0015\"f@yF\u000e\u0019ۧ\u0011\u000fTlE1Cf\u0018ECcj(jD`Fz`\u0006u2'ƶĿ̺B9n,FU\u0013xI\u0015\n",
      "\u0016aX,S,[3\\\u0016xLQ\u0003'vJjۑܿ\u001c",
      ")[̙&d4\u001foq?\u000ef\u0018q<\tfl0\u000f$Y^Rg\u001f\u0000\u0000\u0000\u0003\u0000PK\u0003\u0004\u0014\u0000\u0006\u0000\b\u0000\u0000\u0000!\u0000Cl\u000b",
      "\u0000\u0000\u000fs\u0000\u0000\u000f\u0000\u0000\u0000word/styles.xml[sۺ\u0011;SW9\u001c",
      "$O4\u0010\tYABŗ~\u0002 %A^[$e\u0000MPh(Y\u0012ݟ~}a\u0014\u0015%\u0012&UOG/\u0018SQH^D\u001a\u0015t(\u0017<e{pe~?NYP-*]R̄\u0014`oo2j0y\u001fE̿JyVqΥ&Xe==<Y*E7:5/e\"[c\u0000(\u0015q\n",
      "5/izdQ:|\n",
      "\u0018\u00078\u0000I̟q\u000f\n",
      "c#]Hpɚ#\u0012\u0013\u0019\u0007P$e@Q\u000eV:6d\u000b",
      "V,\\\"ux{I\u0018Ll&5I\u001e",
      "i\"\u000b",
      "67?}lB|*Y\u0016e~7/W*+\u0013+b!t\u0007u+\n",
      "^e\u0018O8+ʳB\u000f\u0017Ot\"\u00121\u001a\u0016\u000f\u001f<\u001d",
      "\u001d",
      "\u001c",
      "97=zO~\u001e",
      "]޸=of{:b\t\u001c",
      "7\u001bVl+¶%6ߟ\u0019\u0014&\u001c",
      "\u001c",
      "\\QgUF,\u001d",
      "\u0011׹`Z$)_'Rp:m7^B:휎>6S\u000b",
      "$<s-D-x?Ѽ\u0011*\u001fL,E9K\u00193ܘ\u0000i]M6?+~D[3\b}\u0014D\u0014ֶ3Wnj\u001a:zߪ[5tV\n",
      "}x,ِ\u0012a3q#1\u001b\u0012\n",
      "q\u0002hg\u001e",
      "9i*Bg\u001fzf{7w>\"{\u0010ݽ\u0007\bNa=;qwg0dKR,+\u0007lTG%\u001e",
      "Ncf\u0012gvz<'H\u0002Lٚ\u001d",
      "`Z3Ě4|^J/Rh.\u0017;γG.ՒG,I4\u0010=#\u00122s>9bN9頦\u0012*\u0011%'c,!\u001e",
      "\u0015$)'\u0017$`R,)F\u001fD1|\f",
      "$RIɉX74S̲\u0006\u001634ᕁ\f",
      "/\f",
      "\u001c",
      "ͨ\u0011TC#\u001aF4n\u001aF4n\n",
      "h\u001aq\u0013)]u?vw.90\u001fSq1\u0000\u0018iF,g9[.\"sT\u001d",
      "n3/*y(ik\u0012պNs\"\u000f\u0016\\k\u001e",
      "<\"y-vfvASLYjZKe)U\u001d",
      "6V\u000ea\u001b\u0003|\u0017yAfv,\f",
      "1Y#'Erx6zH \tz)U@/^<e`w%z\t\u001d",
      "qZ檞k\u000f$,-].X!l迫_]\u0010]\n",
      "Ld4}{2!#\u0015Ut4\u0003C\u0003RdH~i:xhkψ\u000e\u000fYع $\u00102Sdd\u001fjy/3v\n",
      "\u0013\u0011,]֋\u000e\u0002o\u000fjra\u000b",
      "Q\u0004\u001c",
      "6,ٿy<<ݨ\u001fUi?ڥ\n",
      "_&l/\u0011z`/no\u0016jc%+\n",
      "=\u001ạ\u0015z{\u0017\n",
      "OI+I7+ \bdCdf\u0005\u0016[\u001e",
      "\u0006[\u001e",
      "\u0012N\u0019#8$gyEB&Q)aaT2X\u0018\u0006\u0016F*+t\u001c",
      "t\u001c",
      "kuj\u0018\u0012Q3?Y\u001e",
      "\u0007F5,jY\u0018<0yv5^\u0004b\u001c",
      "$՜st;R,!B~\u0011\u001c",
      " i[CTV_M4Ǩ%bQȺfX\"8\"ʤTfc#]\u0015f\u0018܅[bP2g^ַeFÞW~QFh\\\u0015[a\u001bl\u001b~k*]u\u0014L19\u001flgVJb+g$ls;rJފ<\u0019\t3t+\u000f_Y:\u0011NϺLY\u000enmk\"#ۦI,ڲJt\u0016l\u0001TgǸOO+?`?0{vLҴ\u0000y.{e?+U\u001f:Kp\n",
      "\u001e",
      "r\u000e2qnyǏ蝀^\u001bJI~JGNR~\u0004:[=\u0002.[x\\!\n",
      "RBՀU\u001f{9G\n",
      "\u0011h\u000eX)\u0011( B\n",
      "ڨ\u00106*D\n",
      "\u0017`8xQa|Q!%Ĩ6*D\n",
      "\u0011hB\u0004ڨ\u00106j\u001b\u001e",
      "dTHA\u001b\u0015\"F\bQzqQa<Ψ0>Ĩ\u0012bTHA\u001b\u0015\"F\bQ!\u0002mT@\u001b\u0015\"PF\u0005AF\u0014Q!\u0002mT@\u001b0ܨ0\u001e",
      "gT\u0018\u001fbTH\t1*\n",
      "\u0011hB\u0004ڨ\u00106*D\n",
      "\u0011( B\n",
      "ڨ\u00106*DjO\u0016\u000e0*\u0019\u0015Ƈ\u0018\u0015RB\n",
      ")hB\u0004ڨ\u00106*D\n",
      "\u0011hB\u0004ʨ <Ȩ6*D\n",
      "\u0011]9E~\u001f{~SWM~rU\"|Q!j\u001b b&=]$\u0002u;|\\.5Bs\u0000~7\u0012\u001c",
      "S9n$(f\u001b\tVG]׍\u0004k}(E@pWq=]\tCܕ@8]\t\u0003ܕ$=i\u0014\u0010C8\u0013%j1'UO+Ӌ\u000b",
      "G\u0015¤6J\u001d",
      "nT?\u0001+5$\u0004I\n",
      "0RCT\u0010\u0015&5LX!\u0001+uxr\u0013\u0006p!*Xj\n",
      "\u001aʰRC\u0002VjHJ=pńK\n",
      "QRCTpq\u001a\u0012RC\u0002VjH\b\u001a`¥`!*LjP%\u0004Ԑ\u001a\u0012\u0006p!*Xj\u001e",
      "Eْ\u001a\u0013[9\u001d",
      "\u0013KN`@D\u0007VK\u000e!ZZ4UKh~B_2\t(=\u0018~\u0014Za?*Lj\\&uQ\u0004Ըj+5Z\u001aW-uJR㪥6qRO\b\u001aW-uJ:UK~qRԸjMj\\&\u001d",
      "\u0017\u0013.5Z\u001aW-UKmR㪥6qRԸj+5Z\u001aW-uJR㪥6qRԸjMj\\\u001aW-uJ:UK:D\u0010<\u0002j\u0017wEɆ?gBGDz_\u0019m>Ry\u0002sRR?\u0001\u0001/^&럩2'Q`۶ںE\u001b\b\u0017yv\u0019뛨\u0013h_7yPf\u0002\f",
      "fmVgK3;l\n",
      "9Fg|\u001d",
      "$]='\u001fY\u0001Oυ=MYҟs)YmUyYg\u001fYY=o|nӴ\u00170L6xo\u001fNIZ^2t7}[U|\u001f\u0000\u0000\u0000\u0003\u0000PK\u0003\u0004\u0014\u0000\u0006\u0000\b\u0000\u0000\u0000!\u0000\n",
      ")NN\u0001\u0000\u0000~\u0003\u0000\u0000\u0014\u0000\u0000\u0000word/webSettings.xml_k0\u0010\u0000Cɻ\u0014)Va\f",
      "^`\u0007Ն%کsb.!\u0013\u0002\u0019\u0018\n",
      "SX\u0018j0\u0013\tE\u000b",
      "eC.@b7Y\u0003WOR\\T1֙+pX\u0012Sa#\n",
      "\u001fz*&8Mk\u0014,K\u0001ց]\f",
      "`YDO5h\n",
      "\u000eqs\u00133\u0001\t8b\u000e\u0019u\u0014n/0\u0007/]?cv0$G;LO)Μ%s\u0006P\u00112>ޫlcUT\\~IMN޵wt\u0018ڲį%\u001d",
      "ܶ\\uCum\tb\u001f\u0002h\u0015\n",
      "A\u0016G?f\n",
      "\u0000\u0000\u0003\u0000PK\u0003\u0004\u0014\u0000\u0006\u0000\b\u0000\u0000\u0000!\u0000/\u0001\u0000\u0000z\u0006\u0000\u0000\u0012\u0000\u0000\u0000word/fontTable.xmlܓ0\u0010\u000e\n",
      "lv#Uz\u000f\u0018\u0003b\u001by}ǆ\u001e",
      "zX\u000ey<<T\u001b\u001d",
      "\u0005itA\u0005%ܔR\u0005ې\b\u001c",
      "%k\u0016\u00059\u000b",
      " ϟ\u001e",
      "2A\u001ar\u000b",
      "8q\f",
      "\u0011tBc2V1K[ǊٗCwǍꘓ{JwSJdPLUI.\u001b~PB\u001f[\"hhd\u0007\u0017Z\u001e",
      "ZolY\u0005\u0000ځ\u0013&Y݀ր\u0002\u0019+\n",
      "(LOh\u0015\u000375\u0017yȈ1#yđ\u0015ߊ\u0002@f\u0016%\u001a\\Xà&yEe\u0013G?jm,۷H¯\u001e",
      "ᇋ\u0002؏ؿ8\u0005ݷ@\u0010f\n",
      "3V\f",
      "i\u0003\"ؑ\u0005\u001e",
      "v4ҏ$\u001by,\b\u000f\u00196AB/\u0001@'\u001d",
      "o.Y\u001e",
      "B k\f",
      "\u001c",
      "`O\u000b",
      "4}Ƞ$X\u001d",
      "EeuuTRVxrRWxe2pxL{xpƉg\u0004DD\u001f67\u001c",
      "I\u001a\u000fr#6pg9q~\u0017Gƻ\u0011u޼!^|\u001b2N`\u0017\u0000\u0000\u0003\u0000PK\u0003\u0004\u0014\u0000\u0006\u0000\b\u0000\u0000\u0000!\u0000Ryw\u0001\u0000\u0000\u0002\u0000\u0000\u0011\u0000\b\u0001docProps/core.xml \u0004\u0001(\u0000\u0001\u0000\u0000\u0000\u0000\u0000\u0000\u0000\u0000\u0000\u0000\u0000\u0000\u0000\u0000\u0000\u0000\u0000\u0000\u0000\u0000\u0000\u0000\u0000\u0000\u0000\u0000\u0000\u0000\u0000\u0000\u0000\u0000\u0000\u0000\u0000\u0000\u0000\u0000\u0000\u0000\u0000\u0000\u0000\u0000\u0000\u0000\u0000\u0000\u0000\u0000\u0000\u0000\u0000\u0000\u0000\u0000\u0000\u0000\u0000\u0000\u0000\u0000\u0000\u0000\u0000\u0000\u0000\u0000\u0000\u0000\u0000\u0000\u0000\u0000\u0000\u0000\u0000\u0000\u0000\u0000\u0000\u0000\u0000\u0000\u0000\u0000\u0000\u0000\u0000\u0000\u0000\u0000\u0000\u0000\u0000\u0000\u0000\u0000\u0000\u0000\u0000\u0000\u0000\u0000\u0000\u0000\u0000\u0000\u0000\u0000\u0000\u0000\u0000\u0000\u0000\u0000\u0000\u0000\u0000\u0000\u0000\u0000\u0000\u0000\u0000\u0000\u0000\u0000\u0000\u0000\u0000\u0000\u0000\u0000\u0000\u0000\u0000\u0000\u0000\u0000\u0000\u0000\u0000\u0000\u0000\u0000\u0000\u0000\u0000\u0000\u0000\u0000\u0000\u0000\u0000\u0000\u0000\u0000\u0000\u0000\u0000\u0000\u0000\u0000\u0000\u0000\u0000\u0000\u0000\u0000\u0000\u0000\u0000\u0000\u0000\u0000\u0000\u0000\u0000\u0000\u0000\u0000\u0000\u0000\u0000\u0000\u0000\u0000\u0000\u0000\u0000\u0000\u0000\u0000\u0000\u0000\u0000\u0000\u0000\u0000\u0000\u0000\u0000\u0000\u0000\u0000\u0000\u0000\u0000\u0000\u0000\u0000\u0000\u0000\u0000\u0000\u0000\u0000\u0000\u0000\u0000\u0000\u0000\u0000\u0000\u0000\u0000\u0000\u0000\u0000\u0000\u0000\u0000\u0000\u0000\u0000\u0000\u0000\u0000\u0000\u0000\u0000\u0000\u0000\u0000\u0000\u0000\u0000\u0000\u0000\u0000\u0000\u0000\u0000\u0000\u0000]O0\u0014M\u000fP`S\u0017X4\u0019\u0013GV\u0007i;\u0019\u0002I܅w9oO6\u0006y.(|䀠9b5F/;B6D0\u0002ƨ\u0004&ILeDs\u0005O*\f",
      "\u0007X%#*hm0t\n",
      "\u0019ў%m.s\u0011cS\n",
      "Y\u0001\u000e}\u001c",
      "g`\b#JЕ\"K2IʭJk\u0001F10\u001a\u0007^\u000f\u0001\u0003u\u0017qSJ8͎iށEQxŠF\u0001~?<WupB\u0012Ch#\u0002jrؘ* &Wn8uךi\u001b(\\1m{\u0018h4\u001d",
      "\u001b^)fn\u001fvɁ]c\t\u0005߼\u0017IX\u0013]\u001aMnV\u0003Xsʶ6^P\u0012aC7<[\u0004\u0017p\u0014G]o \u0017(\n",
      "\u0006}V1A\u001f\u0000\u0000\u0000\u0003\u0000PK\u0003\u0004\u0014\u0000\u0006\u0000\b\u0000\u0000\u0000!\u0000\u0014\u0001\u0000\u0000\u0003\u0000\u0000\u0010\u0000\b\u0001docProps/app.xml \u0004\u0001(\u0000\u0001\u0000\u0000\u0000\u0000\u0000\u0000\u0000\u0000\u0000\u0000\u0000\u0000\u0000\u0000\u0000\u0000\u0000\u0000\u0000\u0000\u0000\u0000\u0000\u0000\u0000\u0000\u0000\u0000\u0000\u0000\u0000\u0000\u0000\u0000\u0000\u0000\u0000\u0000\u0000\u0000\u0000\u0000\u0000\u0000\u0000\u0000\u0000\u0000\u0000\u0000\u0000\u0000\u0000\u0000\u0000\u0000\u0000\u0000\u0000\u0000\u0000\u0000\u0000\u0000\u0000\u0000\u0000\u0000\u0000\u0000\u0000\u0000\u0000\u0000\u0000\u0000\u0000\u0000\u0000\u0000\u0000\u0000\u0000\u0000\u0000\u0000\u0000\u0000\u0000\u0000\u0000\u0000\u0000\u0000\u0000\u0000\u0000\u0000\u0000\u0000\u0000\u0000\u0000\u0000\u0000\u0000\u0000\u0000\u0000\u0000\u0000\u0000\u0000\u0000\u0000\u0000\u0000\u0000\u0000\u0000\u0000\u0000\u0000\u0000\u0000\u0000\u0000\u0000\u0000\u0000\u0000\u0000\u0000\u0000\u0000\u0000\u0000\u0000\u0000\u0000\u0000\u0000\u0000\u0000\u0000\u0000\u0000\u0000\u0000\u0000\u0000\u0000\u0000\u0000\u0000\u0000\u0000\u0000\u0000\u0000\u0000\u0000\u0000\u0000\u0000\u0000\u0000\u0000\u0000\u0000\u0000\u0000\u0000\u0000\u0000\u0000\u0000\u0000\u0000\u0000\u0000\u0000\u0000\u0000\u0000\u0000\u0000\u0000\u0000\u0000\u0000\u0000\u0000\u0000\u0000\u0000\u0000\u0000\u0000\u0000\u0000\u0000\u0000\u0000\u0000\u0000\u0000\u0000\u0000\u0000\u0000\u0000\u0000\u0000\u0000\u0000\u0000\u0000\u0000\u0000\u0000\u0000\u0000\u0000\u0000\u0000\u0000\u0000\u0000\u0000\u0000\u0000\u0000\u0000\u0000\u0000\u0000\u0000\u0000\u0000\u0000\u0000\u0000\u0000\u0000\u0000\u0000\u0000\u0000\u0000\u0000\u0000\u0000\u0000\u0000\u0000Sn0\f",
      "\u000f?\u00187r-\u000b",
      "\u0002FŐba[\u0003mϚL'dIT׏\u001bWvO#)Kk\u000eCn|V\u0002r\n",
      "{\\X\u00114↝0\u001b\u001d",
      "\u0018X\u001bvLɯ9ꈭ3J[4.2\u0011\n",
      "\u0007F+uE,\u001c",
      "_\u0012\u001a+?\tQqݥ\u0015IO@72ޟ4\u0000T.IS\u0016#'\u0006;y(G\u0000O.\u0017+#Q\u0006\u0012MO|\u0006qJ&Up5\u001f\u0016yy\tP\u0003{TA(\u0014jK\u0006G@΂<\u0004鏯&\u0006{%\n",
      "nuH\u0013\u0011[\u0000PkIҺC\\(E]⇌\u000fl:\u0019e#\u00191\u0005QdH{\u0003r?&GpY8\u0003Kw\n",
      "?sjf'wv\u000fխk4_>!\u001a+wۿ\u0019^\u0006?t{h'e?XBL\u0001\u000e=`};ѿG\u0015嬤oxB\u0018=\u000f\u0012\u0001\u0000\u0000\u0003\u0000PK\u0001\u0002-\u0000\u0014\u0000\u0006\u0000\b\u0000\u0000\u0000!\u0000ߤlZ\u0001\u0000\u0000 \u0005\u0000\u0000\u0013\u0000\u0000\u0000\u0000\u0000\u0000\u0000\u0000\u0000\u0000\u0000\u0000\u0000\u0000\u0000\u0000\u0000[Content_Types].xmlPK\u0001\u0002-\u0000\u0014\u0000\u0006\u0000\b\u0000\u0000\u0000!\u0000\u001e",
      "\u001a\u0000\u0000\u0000N\u0002\u0000\u0000\u000b",
      "\u0000\u0000\u0000\u0000\u0000\u0000\u0000\u0000\u0000\u0000\u0000\u0000\u0000\u0003\u0000\u0000_rels/.relsPK\u0001\u0002-\u0000\u0014\u0000\u0006\u0000\b\u0000\u0000\u0000!\u0000E\u0005\u0000\u0000\u0013\u0000\u0000\u0011\u0000\u0000\u0000\u0000\u0000\u0000\u0000\u0000\u0000\u0000\u0000\u0000\u0000\u0006\u0000\u0000word/document.xmlPK\u0001\u0002-\u0000\u0014\u0000\u0006\u0000\b\u0000\u0000\u0000!\u0000dQ\u0000\u0000\u00001\u0003\u0000\u0000\u001c",
      "\u0000\u0000\u0000\u0000\u0000\u0000\u0000\u0000\u0000\u0000\u0000\u0000\u0000'\f",
      "\u0000\u0000word/_rels/document.xml.relsPK\u0001\u0002-\u0000\u0014\u0000\u0006\u0000\b\u0000\u0000\u0000!\u0000g\u0006\u0000\u0000 \u0000\u0000\u0015\u0000\u0000\u0000\u0000\u0000\u0000\u0000\u0000\u0000\u0000\u0000\u0000\u0000]\u000e\u0000\u0000word/theme/theme1.xmlPK\u0001\u0002-\u0000\u0014\u0000\u0006\u0000\b\u0000\u0000\u0000!\u0000@{\f",
      ")\u0004\u0000\u0000\u001f\f",
      "\u0000\u0000\u0011\u0000\u0000\u0000\u0000\u0000\u0000\u0000\u0000\u0000\u0000\u0000\u0000\u0000b\u0015\u0000\u0000word/settings.xmlPK\u0001\u0002-\u0000\u0014\u0000\u0006\u0000\b\u0000\u0000\u0000!\u0000Cl\u000b",
      "\u0000\u0000\u000fs\u0000\u0000\u000f\u0000\u0000\u0000\u0000\u0000\u0000\u0000\u0000\u0000\u0000\u0000\u0000\u0000\u0019\u0000\u0000word/styles.xmlPK\u0001\u0002-\u0000\u0014\u0000\u0006\u0000\b\u0000\u0000\u0000!\u0000\n",
      ")NN\u0001\u0000\u0000~\u0003\u0000\u0000\u0014\u0000\u0000\u0000\u0000\u0000\u0000\u0000\u0000\u0000\u0000\u0000\u0000\u0000n%\u0000\u0000word/webSettings.xmlPK\u0001\u0002-\u0000\u0014\u0000\u0006\u0000\b\u0000\u0000\u0000!\u0000/\u0001\u0000\u0000z\u0006\u0000\u0000\u0012\u0000\u0000\u0000\u0000\u0000\u0000\u0000\u0000\u0000\u0000\u0000\u0000\u0000&\u0000\u0000word/fontTable.xmlPK\u0001\u0002-\u0000\u0014\u0000\u0006\u0000\b\u0000\u0000\u0000!\u0000Ryw\u0001\u0000\u0000\u0002\u0000\u0000\u0011\u0000\u0000\u0000\u0000\u0000\u0000\u0000\u0000\u0000\u0000\u0000\u0000\u0000\n",
      ")\u0000\u0000docProps/core.xmlPK\u0001\u0002-\u0000\u0014\u0000\u0006\u0000\b\u0000\u0000\u0000!\u0000\u0014\u0001\u0000\u0000\u0003\u0000\u0000\u0010\u0000\u0000\u0000\u0000\u0000\u0000\u0000\u0000\u0000\u0000\u0000\u0000\u0000+\u0000\u0000docProps/app.xmlPK\u0005\u0006\u0000\u0000\u0000\u0000\u000b",
      "\u0000\u000b",
      "\u0000\u0002\u0000\u0000.\u0000\u0000\u0000\u0000\n"
     ]
    }
   ],
   "source": [
    "f = open(r'C:\\Users\\MEGHANA\\OneDrive\\Documents\\DC1.docx','r',encoding='utf8',errors='ignore')\n",
    "\n",
    "print(f.read())\n",
    "f.close()"
   ]
  },
  {
   "cell_type": "code",
   "execution_count": 41,
   "id": "6dde397e",
   "metadata": {},
   "outputs": [
    {
     "ename": "ModuleNotFoundError",
     "evalue": "No module named 'docx2txt'",
     "output_type": "error",
     "traceback": [
      "\u001b[1;31m---------------------------------------------------------------------------\u001b[0m",
      "\u001b[1;31mModuleNotFoundError\u001b[0m                       Traceback (most recent call last)",
      "\u001b[1;32m~\\AppData\\Local\\Temp/ipykernel_4592/228473200.py\u001b[0m in \u001b[0;36m<module>\u001b[1;34m\u001b[0m\n\u001b[1;32m----> 1\u001b[1;33m \u001b[1;32mimport\u001b[0m \u001b[0mdocx2txt\u001b[0m\u001b[1;33m\u001b[0m\u001b[1;33m\u001b[0m\u001b[0m\n\u001b[0m\u001b[0;32m      2\u001b[0m \u001b[0mmy_text\u001b[0m \u001b[1;33m=\u001b[0m \u001b[0mdocx2txt\u001b[0m\u001b[1;33m.\u001b[0m\u001b[0mprocess\u001b[0m\u001b[1;33m(\u001b[0m\u001b[1;34mr'C:\\Users\\MEGHANA\\Downloads\\synopsis.docx'\u001b[0m\u001b[1;33m)\u001b[0m\u001b[1;33m\u001b[0m\u001b[1;33m\u001b[0m\u001b[0m\n\u001b[0;32m      3\u001b[0m \u001b[0mprint\u001b[0m\u001b[1;33m(\u001b[0m\u001b[0mmy_text\u001b[0m\u001b[1;33m)\u001b[0m\u001b[1;33m\u001b[0m\u001b[1;33m\u001b[0m\u001b[0m\n",
      "\u001b[1;31mModuleNotFoundError\u001b[0m: No module named 'docx2txt'"
     ]
    }
   ],
   "source": [
    "import docx2txt\n",
    "my_text = docx2txt.process(r'C:\\Users')\n",
    "print(my_text)"
   ]
  },
  {
   "cell_type": "code",
   "execution_count": 1,
   "id": "d63573e5",
   "metadata": {},
   "outputs": [
    {
     "ename": "ModuleNotFoundError",
     "evalue": "No module named 'exceptions'",
     "output_type": "error",
     "traceback": [
      "\u001b[1;31m---------------------------------------------------------------------------\u001b[0m",
      "\u001b[1;31mModuleNotFoundError\u001b[0m                       Traceback (most recent call last)",
      "\u001b[1;32m~\\AppData\\Local\\Temp/ipykernel_7572/2196260983.py\u001b[0m in \u001b[0;36m<module>\u001b[1;34m\u001b[0m\n\u001b[1;32m----> 1\u001b[1;33m \u001b[1;32mimport\u001b[0m \u001b[0mdocx\u001b[0m\u001b[1;33m\u001b[0m\u001b[1;33m\u001b[0m\u001b[0m\n\u001b[0m\u001b[0;32m      2\u001b[0m \u001b[1;33m\u001b[0m\u001b[0m\n\u001b[0;32m      3\u001b[0m \u001b[1;32mdef\u001b[0m \u001b[0mgetText\u001b[0m\u001b[1;33m(\u001b[0m\u001b[0mfilename\u001b[0m\u001b[1;33m)\u001b[0m\u001b[1;33m:\u001b[0m\u001b[1;33m\u001b[0m\u001b[1;33m\u001b[0m\u001b[0m\n\u001b[0;32m      4\u001b[0m     \u001b[0mdoc\u001b[0m \u001b[1;33m=\u001b[0m \u001b[0mdocx\u001b[0m\u001b[1;33m.\u001b[0m\u001b[0mDocument\u001b[0m\u001b[1;33m(\u001b[0m\u001b[0mfilename\u001b[0m\u001b[1;33m)\u001b[0m\u001b[1;33m\u001b[0m\u001b[1;33m\u001b[0m\u001b[0m\n\u001b[0;32m      5\u001b[0m     \u001b[0mfullText\u001b[0m \u001b[1;33m=\u001b[0m \u001b[1;33m[\u001b[0m\u001b[1;33m]\u001b[0m\u001b[1;33m\u001b[0m\u001b[1;33m\u001b[0m\u001b[0m\n",
      "\u001b[1;32m~\\anaconda3\\lib\\site-packages\\docx.py\u001b[0m in \u001b[0;36m<module>\u001b[1;34m\u001b[0m\n\u001b[0;32m     28\u001b[0m     \u001b[0mTAGS\u001b[0m \u001b[1;33m=\u001b[0m \u001b[1;33m{\u001b[0m\u001b[1;33m}\u001b[0m\u001b[1;33m\u001b[0m\u001b[1;33m\u001b[0m\u001b[0m\n\u001b[0;32m     29\u001b[0m \u001b[1;33m\u001b[0m\u001b[0m\n\u001b[1;32m---> 30\u001b[1;33m \u001b[1;32mfrom\u001b[0m \u001b[0mexceptions\u001b[0m \u001b[1;32mimport\u001b[0m \u001b[0mPendingDeprecationWarning\u001b[0m\u001b[1;33m\u001b[0m\u001b[1;33m\u001b[0m\u001b[0m\n\u001b[0m\u001b[0;32m     31\u001b[0m \u001b[1;32mfrom\u001b[0m \u001b[0mwarnings\u001b[0m \u001b[1;32mimport\u001b[0m \u001b[0mwarn\u001b[0m\u001b[1;33m\u001b[0m\u001b[1;33m\u001b[0m\u001b[0m\n\u001b[0;32m     32\u001b[0m \u001b[1;33m\u001b[0m\u001b[0m\n",
      "\u001b[1;31mModuleNotFoundError\u001b[0m: No module named 'exceptions'"
     ]
    }
   ],
   "source": [
    "import docx\n",
    "\n",
    "def getText(filename):\n",
    "    doc = docx.Document(filename)\n",
    "    fullText = []\n",
    "    for para in doc.paragraphs:\n",
    "        fullText.append(para.text)\n",
    "    return '\\n'.join(fullText)"
   ]
  },
  {
   "cell_type": "code",
   "execution_count": null,
   "id": "fba4c54c",
   "metadata": {},
   "outputs": [],
   "source": []
  }
 ],
 "metadata": {
  "kernelspec": {
   "display_name": "Python 3 (ipykernel)",
   "language": "python",
   "name": "python3"
  },
  "language_info": {
   "codemirror_mode": {
    "name": "ipython",
    "version": 3
   },
   "file_extension": ".py",
   "mimetype": "text/x-python",
   "name": "python",
   "nbconvert_exporter": "python",
   "pygments_lexer": "ipython3",
   "version": "3.9.7"
  }
 },
 "nbformat": 4,
 "nbformat_minor": 5
}
